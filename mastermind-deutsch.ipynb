{
 "cells": [
  {
   "cell_type": "code",
   "execution_count": 1,
   "id": "70a4665c",
   "metadata": {},
   "outputs": [
    {
     "name": "stdout",
     "output_type": "stream",
     "text": [
      "Oracle depth: 1\n",
      "Oracle size (gate count): 2\n",
      "Oracle width (qubits used): 4\n",
      "Backend selected: aer_simulator with 30 qubits\n",
      "ISA circuit depth: 2\n",
      "ISA circuit size (gate count): 6\n",
      "ISA circuit width (qubits used): 8\n",
      "------\n"
     ]
    },
    {
     "data": {
      "text/html": [
       "<pre style=\"word-wrap: normal;white-space: pre;background: #fff0;line-height: 1.1;font-family: &quot;Courier New&quot;,Courier,monospace\">                   ┌─┐         \n",
       "q_0: ──────────────┤M├─────────\n",
       "                   └╥┘┌─┐      \n",
       "q_1: ───────────────╫─┤M├──────\n",
       "     ┌────────────┐ ║ └╥┘┌─┐   \n",
       "q_2: ┤ U3(π,-π,0) ├─╫──╫─┤M├───\n",
       "     ├────────────┤ ║  ║ └╥┘┌─┐\n",
       "q_3: ┤ U3(π,-π,0) ├─╫──╫──╫─┤M├\n",
       "     └────────────┘ ║  ║  ║ └╥┘\n",
       "c: 4/═══════════════╩══╩══╩══╩═\n",
       "                    0  1  2  3 </pre>"
      ],
      "text/plain": [
       "                   ┌─┐         \n",
       "q_0: ──────────────┤M├─────────\n",
       "                   └╥┘┌─┐      \n",
       "q_1: ───────────────╫─┤M├──────\n",
       "     ┌────────────┐ ║ └╥┘┌─┐   \n",
       "q_2: ┤ U3(π,-π,0) ├─╫──╫─┤M├───\n",
       "     ├────────────┤ ║  ║ └╥┘┌─┐\n",
       "q_3: ┤ U3(π,-π,0) ├─╫──╫──╫─┤M├\n",
       "     └────────────┘ ║  ║  ║ └╥┘\n",
       "c: 4/═══════════════╩══╩══╩══╩═\n",
       "                    0  1  2  3 "
      ]
     },
     "metadata": {},
     "output_type": "display_data"
    },
    {
     "name": "stdout",
     "output_type": "stream",
     "text": [
      "Oracle depth: 1\n",
      "Oracle size (gate count): 2\n",
      "Oracle width (qubits used): 4\n",
      "Backend selected: aer_simulator with 30 qubits\n",
      "ISA circuit depth: 2\n",
      "ISA circuit size (gate count): 6\n",
      "ISA circuit width (qubits used): 8\n",
      "------\n"
     ]
    },
    {
     "data": {
      "text/html": [
       "<pre style=\"word-wrap: normal;white-space: pre;background: #fff0;line-height: 1.1;font-family: &quot;Courier New&quot;,Courier,monospace\">     ┌────────────┐   ┌─┐   \n",
       "q_0: ┤ U3(π,-π,0) ├───┤M├───\n",
       "     ├────────────┤   └╥┘┌─┐\n",
       "q_1: ┤ U3(π,-π,0) ├────╫─┤M├\n",
       "     └────┬─┬─────┘    ║ └╥┘\n",
       "q_2: ─────┤M├──────────╫──╫─\n",
       "          └╥┘      ┌─┐ ║  ║ \n",
       "q_3: ──────╫───────┤M├─╫──╫─\n",
       "           ║       └╥┘ ║  ║ \n",
       "c: 4/══════╩════════╩══╩══╩═\n",
       "           2        3  0  1 </pre>"
      ],
      "text/plain": [
       "     ┌────────────┐   ┌─┐   \n",
       "q_0: ┤ U3(π,-π,0) ├───┤M├───\n",
       "     ├────────────┤   └╥┘┌─┐\n",
       "q_1: ┤ U3(π,-π,0) ├────╫─┤M├\n",
       "     └────┬─┬─────┘    ║ └╥┘\n",
       "q_2: ─────┤M├──────────╫──╫─\n",
       "          └╥┘      ┌─┐ ║  ║ \n",
       "q_3: ──────╫───────┤M├─╫──╫─\n",
       "           ║       └╥┘ ║  ║ \n",
       "c: 4/══════╩════════╩══╩══╩═\n",
       "           2        3  0  1 "
      ]
     },
     "metadata": {},
     "output_type": "display_data"
    },
    {
     "name": "stdout",
     "output_type": "stream",
     "text": [
      "Oracle depth: 0\n",
      "Oracle size (gate count): 0\n",
      "Oracle width (qubits used): 4\n",
      "Backend selected: aer_simulator with 30 qubits\n",
      "ISA circuit depth: 1\n",
      "ISA circuit size (gate count): 4\n",
      "ISA circuit width (qubits used): 8\n",
      "------\n"
     ]
    },
    {
     "data": {
      "text/html": [
       "<pre style=\"word-wrap: normal;white-space: pre;background: #fff0;line-height: 1.1;font-family: &quot;Courier New&quot;,Courier,monospace\">     ┌─┐         \n",
       "q_0: ┤M├─────────\n",
       "     └╥┘┌─┐      \n",
       "q_1: ─╫─┤M├──────\n",
       "      ║ └╥┘┌─┐   \n",
       "q_2: ─╫──╫─┤M├───\n",
       "      ║  ║ └╥┘┌─┐\n",
       "q_3: ─╫──╫──╫─┤M├\n",
       "      ║  ║  ║ └╥┘\n",
       "c: 4/═╩══╩══╩══╩═\n",
       "      0  1  2  3 </pre>"
      ],
      "text/plain": [
       "     ┌─┐         \n",
       "q_0: ┤M├─────────\n",
       "     └╥┘┌─┐      \n",
       "q_1: ─╫─┤M├──────\n",
       "      ║ └╥┘┌─┐   \n",
       "q_2: ─╫──╫─┤M├───\n",
       "      ║  ║ └╥┘┌─┐\n",
       "q_3: ─╫──╫──╫─┤M├\n",
       "      ║  ║  ║ └╥┘\n",
       "c: 4/═╩══╩══╩══╩═\n",
       "      0  1  2  3 "
      ]
     },
     "metadata": {},
     "output_type": "display_data"
    },
    {
     "name": "stdout",
     "output_type": "stream",
     "text": [
      "Oracle depth: 0\n",
      "Oracle size (gate count): 0\n",
      "Oracle width (qubits used): 4\n",
      "Backend selected: aer_simulator with 30 qubits\n",
      "ISA circuit depth: 1\n",
      "ISA circuit size (gate count): 4\n",
      "ISA circuit width (qubits used): 8\n",
      "------\n"
     ]
    },
    {
     "data": {
      "text/html": [
       "<pre style=\"word-wrap: normal;white-space: pre;background: #fff0;line-height: 1.1;font-family: &quot;Courier New&quot;,Courier,monospace\">     ┌─┐         \n",
       "q_0: ┤M├─────────\n",
       "     └╥┘┌─┐      \n",
       "q_1: ─╫─┤M├──────\n",
       "      ║ └╥┘┌─┐   \n",
       "q_2: ─╫──╫─┤M├───\n",
       "      ║  ║ └╥┘┌─┐\n",
       "q_3: ─╫──╫──╫─┤M├\n",
       "      ║  ║  ║ └╥┘\n",
       "c: 4/═╩══╩══╩══╩═\n",
       "      0  1  2  3 </pre>"
      ],
      "text/plain": [
       "     ┌─┐         \n",
       "q_0: ┤M├─────────\n",
       "     └╥┘┌─┐      \n",
       "q_1: ─╫─┤M├──────\n",
       "      ║ └╥┘┌─┐   \n",
       "q_2: ─╫──╫─┤M├───\n",
       "      ║  ║ └╥┘┌─┐\n",
       "q_3: ─╫──╫──╫─┤M├\n",
       "      ║  ║  ║ └╥┘\n",
       "c: 4/═╩══╩══╩══╩═\n",
       "      0  1  2  3 "
      ]
     },
     "metadata": {},
     "output_type": "display_data"
    },
    {
     "name": "stdout",
     "output_type": "stream",
     "text": [
      "Oracle depth: 0\n",
      "Oracle size (gate count): 0\n",
      "Oracle width (qubits used): 4\n",
      "Backend selected: aer_simulator with 30 qubits\n",
      "ISA circuit depth: 1\n",
      "ISA circuit size (gate count): 4\n",
      "ISA circuit width (qubits used): 8\n",
      "------\n"
     ]
    },
    {
     "data": {
      "text/html": [
       "<pre style=\"word-wrap: normal;white-space: pre;background: #fff0;line-height: 1.1;font-family: &quot;Courier New&quot;,Courier,monospace\">     ┌─┐         \n",
       "q_0: ┤M├─────────\n",
       "     └╥┘┌─┐      \n",
       "q_1: ─╫─┤M├──────\n",
       "      ║ └╥┘┌─┐   \n",
       "q_2: ─╫──╫─┤M├───\n",
       "      ║  ║ └╥┘┌─┐\n",
       "q_3: ─╫──╫──╫─┤M├\n",
       "      ║  ║  ║ └╥┘\n",
       "c: 4/═╩══╩══╩══╩═\n",
       "      0  1  2  3 </pre>"
      ],
      "text/plain": [
       "     ┌─┐         \n",
       "q_0: ┤M├─────────\n",
       "     └╥┘┌─┐      \n",
       "q_1: ─╫─┤M├──────\n",
       "      ║ └╥┘┌─┐   \n",
       "q_2: ─╫──╫─┤M├───\n",
       "      ║  ║ └╥┘┌─┐\n",
       "q_3: ─╫──╫──╫─┤M├\n",
       "      ║  ║  ║ └╥┘\n",
       "c: 4/═╩══╩══╩══╩═\n",
       "      0  1  2  3 "
      ]
     },
     "metadata": {},
     "output_type": "display_data"
    },
    {
     "name": "stdout",
     "output_type": "stream",
     "text": [
      "Quantum measured membership bitstrings for (c1, ci) pairs:\n",
      "(c1=1, ci=2): 0011\n",
      "(c1=1, ci=3): 1100\n",
      "(c1=1, ci=4): 0000\n",
      "(c1=1, ci=5): 0000\n",
      "(c1=1, ci=6): 0000\n",
      "\n",
      "Classical membership matrix (rows: positions, cols: colours 1-6):\n",
      "[0, 0, 1, 0, 0, 0]\n",
      "[0, 0, 1, 0, 0, 0]\n",
      "[0, 1, 0, 0, 0, 0]\n",
      "[0, 1, 0, 0, 0, 0]\n",
      "\n",
      "Secret code: ['YELLOW', 'YELLOW', 'ORANGE', 'ORANGE']\n",
      "Solution   : ['YELLOW', 'YELLOW', 'ORANGE', 'ORANGE']\n"
     ]
    }
   ],
   "source": [
    "from qiskit import QuantumCircuit\n",
    "from qiskit_aer import AerSimulator\n",
    "from qiskit_ibm_runtime import SamplerV2 as Sampler, Session\n",
    "from qiskit.transpiler.preset_passmanagers import generate_preset_pass_manager\n",
    "from enum import Enum\n",
    "import random\n",
    "\n",
    "class Colour(Enum):\n",
    "    RED = 1\n",
    "    ORANGE = 2\n",
    "    YELLOW = 3\n",
    "    GREEN = 4\n",
    "    BLUE = 5\n",
    "    INDIGO = 6\n",
    "    VIOLET = 7\n",
    "    WHITE = 8\n",
    "\n",
    "def encode_colour_sequence(colours):\n",
    "    \"\"\" convert a list of Colour enums to 1-based integer indices \"\"\"\n",
    "    return [c.value for c in colours]\n",
    "\n",
    "def decode_colour_sequence(indices):\n",
    "    \"\"\" convert a list of 1-based indices to Colour enums \"\"\"\n",
    "    return [Colour(i) for i in indices]\n",
    "\n",
    "# Choose n random colours from the first c Colours (with possible repeats)\n",
    "def random_secret_colours(n_positions, n_colours):\n",
    "    \"\"\" generate random list of Colour enums of length n \"\"\"\n",
    "    return random.choices(list(Colour)[:n_colours], k=n_positions)\n",
    "\n",
    "def decode_solution(memberships, k, n):\n",
    "    \"\"\" decode secret code from measured membership bitstrings \"\"\"\n",
    "    solution = []\n",
    "    for pos in range(n):\n",
    "        bits = [int(memberships[(1, ci)][pos]) for ci in range(2, k+1)]\n",
    "        if all(bits):\n",
    "            solution.append(1)\n",
    "        else:\n",
    "            for i, bit in enumerate(bits, start=2):\n",
    "                if bit:\n",
    "                    solution.append(i)\n",
    "                    break                            \n",
    "    return decode_colour_sequence(solution)\n",
    "\n",
    "def mastermind_deutsch_oracle(secret, c1, c2, n, log=False):    \n",
    "    \"\"\" create oracle marking states where positions match c1 or c2 in the secret \"\"\"\n",
    "    qc = QuantumCircuit(n)\n",
    "    for j in range(n):\n",
    "        if secret[j] == c1:\n",
    "            qc.x(j)\n",
    "            qc.z(j)\n",
    "            qc.x(j)\n",
    "        if secret[j] == c2:\n",
    "            qc.z(j)\n",
    "    if log:\n",
    "        print(\"Oracle depth:\", qc.decompose().depth())\n",
    "        print(\"Oracle size (gate count):\", qc.size())\n",
    "        print(\"Oracle width (qubits used):\", qc.width())\n",
    "    return qc\n",
    "\n",
    "def find_two_colour_position(n, color_oracle, log=False):\n",
    "    \"\"\" create and run Deutsch-Jozsa circuit to return probable bitstrings \"\"\"\n",
    "    qc = QuantumCircuit(n, n)\n",
    "    qc.h(range(n))\n",
    "    qc.compose(color_oracle, inplace=True)\n",
    "    qc.h(range(n))\n",
    "    qc.measure(range(n), range(n))\n",
    "\n",
    "    backend = AerSimulator()\n",
    "    if log:\n",
    "        print(f\"Backend selected: {backend.name} with {backend.num_qubits} qubits\")\n",
    "\n",
    "    pm = generate_preset_pass_manager(backend=backend, optimization_level=1)\n",
    "    isa_circuit = pm.run(qc)\n",
    "    \n",
    "    if log:\n",
    "        print(\"ISA circuit depth:\", isa_circuit.decompose().depth())\n",
    "        print(\"ISA circuit size (gate count):\", isa_circuit.size())\n",
    "        print(\"ISA circuit width (qubits used):\", isa_circuit.width())\n",
    "        print(\"------\")\n",
    "        display(isa_circuit.draw())\n",
    "        # display(isa_circuit.draw(\"mpl\"))\n",
    "        \n",
    "    with Session(backend=backend) as session:\n",
    "        sampler = Sampler(mode=session)\n",
    "        results = sampler.run([isa_circuit]).result()\n",
    "        counts = results[0].data.c.get_counts()\n",
    "    return max(counts, key=counts.get)\n",
    "\n",
    "def mastermind_non_adaptive(k, n, secret_code, log=False):\n",
    "    \"\"\" a non-adaptive algorithm iterating on the Deutsch-Jozsa-ish oracle \"\"\"\n",
    "    secret = encode_colour_sequence(secret_code)\n",
    "    measurements = {}\n",
    "    c1 = 1  # 1-based index for colours\n",
    "    for ci in range(2, k + 1):\n",
    "        oracle = mastermind_deutsch_oracle(secret, c1, ci, n, log=log)\n",
    "        membership = find_two_colour_position(n, oracle, log=log)\n",
    "        measurements[(c1, ci)] = membership[::-1]\n",
    "\n",
    "    if log: \n",
    "        print(\"Quantum measured membership bitstrings for (c1, ci) pairs:\")\n",
    "        for ci in range(2, k + 1):\n",
    "            print(f\"(c1={c1}, ci={ci}): {measurements[(c1, ci)]}\")\n",
    "\n",
    "        print(f\"\\nClassical membership matrix (rows: positions, cols: colours 1-{k}):\")\n",
    "        for pos in range(n):\n",
    "            print([int(secret[pos] == c) for c in range(1, k+1)])\n",
    "\n",
    "    return decode_solution(measurements, k, n)\n",
    "\n",
    "\n",
    "k = 6  # number of colours in game\n",
    "n = 4  # number of positions in solution\n",
    "\n",
    "# secret_colours = [Colour.BLUE, Colour.ORANGE, Colour.YELLOW, Colour.ORANGE]  # List of Colour enums\n",
    "secret_code = random_secret_colours(n, k)\n",
    "\n",
    "solution_colours = mastermind_non_adaptive(k, n, secret_code, log=True)\n",
    "\n",
    "print(\"\\nSecret code:\", [c.name for c in secret_code])\n",
    "print(\"Solution   :\", [c.name for c in solution_colours])\n"
   ]
  }
 ],
 "metadata": {
  "kernelspec": {
   "display_name": ".venv",
   "language": "python",
   "name": "python3"
  },
  "language_info": {
   "codemirror_mode": {
    "name": "ipython",
    "version": 3
   },
   "file_extension": ".py",
   "mimetype": "text/x-python",
   "name": "python",
   "nbconvert_exporter": "python",
   "pygments_lexer": "ipython3",
   "version": "3.12.2"
  }
 },
 "nbformat": 4,
 "nbformat_minor": 5
}
